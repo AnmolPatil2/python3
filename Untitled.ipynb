{
 "cells": [
  {
   "cell_type": "code",
   "execution_count": null,
   "metadata": {},
   "outputs": [],
   "source": [
    "\n",
    "from itertools import permutations\n",
    "arr=[]\n",
    "count=0\n",
    "def rSubset(arr, r): \n",
    "  \n",
    "   return list(permutations(arr,r)) \n",
    "  \n",
    "# Driver Function\n",
    "\n",
    "for i in range(1,242280):\n",
    "\tarr.append(i)\n",
    "\t\n",
    "print(arr)\n",
    "\n",
    "for a in (rSubset(arr, 3) ):\n",
    "\tif (a[0]*a[0]+a[1]*a[1]==a[2]*a[2]):\n",
    "\t\tcount=count+1\n",
    "\t\tprint(\"count\"+count)\n",
    "        "
   ]
  },
  {
   "cell_type": "code",
   "execution_count": null,
   "metadata": {},
   "outputs": [],
   "source": []
  }
 ],
 "metadata": {
  "kernelspec": {
   "display_name": "Python 3",
   "language": "python",
   "name": "python3"
  },
  "language_info": {
   "codemirror_mode": {
    "name": "ipython",
    "version": 3
   },
   "file_extension": ".py",
   "mimetype": "text/x-python",
   "name": "python",
   "nbconvert_exporter": "python",
   "pygments_lexer": "ipython3",
   "version": "3.6.4"
  }
 },
 "nbformat": 4,
 "nbformat_minor": 2
}
